{
 "cells": [
  {
   "cell_type": "code",
   "execution_count": 29,
   "metadata": {},
   "outputs": [],
   "source": [
    "# based on https://github.com/milindmalshe/Fully-Connected-Neural-Network-PyTorch/blob/master/FCN_MNIST_Classification_PyTorch.py\n",
    "import torch\n",
    "import torch.nn as nn\n",
    "import torchvision\n",
    "import torchvision.transforms as transforms\n",
    "import matplotlib.pyplot as plt\n",
    "import numpy as np\n",
    "import random\n",
    "import itertools # to create the all possible combinations of hyperparameters\n",
    "from tqdm import tqdm\n",
    "from tabulate import tabulate\n",
    "import pandas as pd"
   ]
  },
  {
   "cell_type": "code",
   "execution_count": 30,
   "metadata": {},
   "outputs": [],
   "source": [
    "# Setup device\n",
    "device = torch.device('cuda' if torch.cuda.is_available() else 'cpu')"
   ]
  },
  {
   "cell_type": "code",
   "execution_count": 31,
   "metadata": {},
   "outputs": [],
   "source": [
    "# Hyperparameters\n",
    "input_size = 784\n",
    "num_classes = 10\n",
    "hidden_sizes = [100,500,2000] \n",
    "num_epochs = [5] \n",
    "batch_sizes = [100,250,500]\n",
    "learning_rates = [0.0001, 0.001, 0.01]\n",
    "\n",
    "default_batch_size = 100\n",
    "validation_size = 10000 # number for validation\n",
    "\n",
    "number_of_seeds = 1 # number of random seeds to generate"
   ]
  },
  {
   "cell_type": "code",
   "execution_count": 32,
   "metadata": {},
   "outputs": [],
   "source": [
    "# MNIST dataset\n",
    "train_dataset = torchvision.datasets.MNIST(root='./data/',\n",
    "\t\t\t\t\t\t\t\t\t\t   train=True,\n",
    "\t\t\t\t\t\t\t\t\t\t   transform=transforms.ToTensor(),\n",
    "\t\t\t\t\t\t\t\t\t\t   download=True)\n",
    "\n",
    "test_dataset = torchvision.datasets.MNIST(root='./data/',\n",
    "\t\t\t\t\t\t\t\t\t\t  train=False,\n",
    "\t\t\t\t\t\t\t\t\t\t  transform=transforms.ToTensor())\n",
    "\n",
    "# Split dataset into training and validation sets\n",
    "train_size = len(train_dataset) - validation_size\n",
    "train_dataset, validation_dataset = torch.utils.data.random_split(train_dataset, [train_size, validation_size])\n",
    "\n",
    "# Data loader\n",
    "train_loader = torch.utils.data.DataLoader(dataset=train_dataset,\n",
    "\t\t\t\t\t\t\t\t\t\t   batch_size=default_batch_size,\n",
    "\t\t\t\t\t\t\t\t\t\t   shuffle=True)\n",
    "\n",
    "val_loader = torch.utils.data.DataLoader(dataset=validation_dataset,\n",
    "                        batch_size=default_batch_size,\n",
    "                        shuffle=False)\n",
    "\n",
    "test_loader = torch.utils.data.DataLoader(dataset=test_dataset,\n",
    "\t\t\t\t\t\t\t\t\t\t  batch_size=default_batch_size,\n",
    "\t\t\t\t\t\t\t\t\t\t  shuffle=False)"
   ]
  },
  {
   "cell_type": "code",
   "execution_count": 33,
   "metadata": {},
   "outputs": [],
   "source": [
    "def change_batch_size(loader, new_batch_size):\n",
    "    loader.batch_sampler.batch_size = new_batch_size\n",
    "\n",
    "def print_curr_combination(combination):\n",
    "    seed_number = combination[0]\n",
    "    hidden_size = combination[1]\n",
    "    num_of_epochs = combination[2]\n",
    "    learning_rate = combination[3]\n",
    "    batch_size = combination[4]\n",
    "\n",
    "    print(f\"Seed number: #{seed_number}, hidden_size: {hidden_size}, # Epochs: {num_of_epochs}, learning_rate: {learning_rate}, batch_size: {batch_size}\")\n",
    "\n",
    "def generate_seed_numbers(number_of_seeds):\n",
    "    return [random.randint(0, 100) for _ in range(number_of_seeds)]\n",
    "\n",
    "def generate_combinations():\n",
    "    seed_numbers = generate_seed_numbers(number_of_seeds)\n",
    "\n",
    "    num_of_iterations = len(seed_numbers) * len(hidden_sizes) *len(num_epochs) *len(learning_rates) *len(batch_sizes)\n",
    "    # Generate all possible combinations\n",
    "    combinations      =  itertools.product(seed_numbers,hidden_sizes, num_epochs,learning_rates,batch_sizes)\n",
    "\n",
    "    return combinations, num_of_iterations\n",
    "    "
   ]
  },
  {
   "cell_type": "code",
   "execution_count": 34,
   "metadata": {},
   "outputs": [],
   "source": [
    "# Fully connected neural network\n",
    "class NeuralNet(nn.Module):\n",
    "\tdef __init__(self, input_size, hidden_size, num_classes):\n",
    "\t\tsuper(NeuralNet, self).__init__()\n",
    "\t\tself.fc1 = nn.Linear(input_size, hidden_size) \n",
    "\t\tself.relu = nn.ReLU()\n",
    "\t\tself.fc2 = nn.Linear(hidden_size, num_classes)  \n",
    "\n",
    "\tdef forward(self, x):\n",
    "\t\tout = self.fc1(x)\n",
    "\t\tout = self.relu(out)\n",
    "\t\tout = self.fc2(out)\n",
    "\t\treturn out"
   ]
  },
  {
   "cell_type": "code",
   "execution_count": 35,
   "metadata": {},
   "outputs": [],
   "source": [
    "criterion = nn.CrossEntropyLoss() # this is the loss function\n",
    "combinations, num_of_iterations = generate_combinations()"
   ]
  },
  {
   "cell_type": "code",
   "execution_count": 36,
   "metadata": {},
   "outputs": [],
   "source": [
    "def evaluate_model(model,data_loader):\n",
    "    total_loss = 0\n",
    "    model.eval()  # Set model to evaluation mode\n",
    "    with torch.no_grad():\n",
    "        correct = 0\n",
    "        total = 0\n",
    "        for images, labels in data_loader:\n",
    "            images = images.reshape(-1, 28*28).to(device) # convert to vector\n",
    "            labels = labels.to(device)\n",
    "            outputs = model(images)\n",
    "            _, predicted = torch.max(outputs.data, 1) # takes max of last layer as prediction\n",
    "            total += labels.size(0)\n",
    "            correct += (predicted == labels).sum().item()\n",
    "\n",
    "            loss = criterion(outputs, labels)\n",
    "            total_loss+=loss.item()\n",
    "        \n",
    "        data_errors = total_loss/len(data_loader) # get mean error\n",
    "        \n",
    "    return data_errors"
   ]
  },
  {
   "cell_type": "code",
   "execution_count": 37,
   "metadata": {},
   "outputs": [],
   "source": [
    "def train_model(seed_number,hidden_size,num_epochs,learning_rate,batch_size):\n",
    "\t# set the seed\n",
    "\ttorch.manual_seed(seed_number)\n",
    "\t# print(\"Using seed number: \",seed_number)\n",
    "\n",
    "\tchange_batch_size(train_loader,batch_size)\n",
    "\tchange_batch_size(test_loader,batch_size)\n",
    "\tchange_batch_size(val_loader,batch_size)\n",
    "\n",
    "\tmodel = NeuralNet(input_size, hidden_size, num_classes).to(device)\n",
    "\toptimizer = torch.optim.Adam(model.parameters(), lr=learning_rate) # this is the algorithm used like gradient descent\n",
    "\t\t\n",
    "\t# train the model\n",
    "\tall_epochs_test_errors = []\n",
    "\tall_epochs_val_errors = []\n",
    "\tfor epoch in range(num_epochs):\n",
    "\t\t# set model to train mode\n",
    "\t\tmodel.train()\n",
    "\t\tfor i, (images, labels) in enumerate(train_loader):\n",
    "\t\t\timages = images.reshape(-1, input_size).to(device)\n",
    "\t\t\tlabels = labels.to(device)\n",
    "\n",
    "\t\t\toutputs = model(images)\n",
    "\t\t\tloss = criterion(outputs, labels)\n",
    "\n",
    "\t\t\toptimizer.zero_grad()\n",
    "\t\t\tloss.backward()\n",
    "\t\t\toptimizer.step()\n",
    "\n",
    "\t\t# get e_te of each epoch\n",
    "\t\ttest_errors = evaluate_model(model,test_loader)\n",
    "\t\tval_errors = evaluate_model(model,val_loader)\n",
    "\t\t\n",
    "\t\tprint('Epoch [{}/{}], Seed [{}] Test Loss: {:.4f}'.format(epoch+1, num_epochs,seed_number, test_errors))\n",
    "\n",
    "\t\tall_epochs_test_errors.append(test_errors) # aggregate each epoch's error from this seed\n",
    "\t\tall_epochs_val_errors.append(val_errors)   # aggregate each epoch's error from this seed\n",
    "\n",
    "\treturn model, all_epochs_test_errors,all_epochs_val_errors\n"
   ]
  },
  {
   "cell_type": "code",
   "execution_count": 38,
   "metadata": {},
   "outputs": [
    {
     "name": "stderr",
     "output_type": "stream",
     "text": [
      "  0%|          | 0/27 [00:00<?, ?it/s]"
     ]
    },
    {
     "name": "stdout",
     "output_type": "stream",
     "text": [
      "Seed number: #29, hidden_size: 100, # Epochs: 5, learning_rate: 0.0001, batch_size: 100\n",
      "Epoch [1/5], Seed [29] Test Loss: 0.6260\n",
      "Epoch [2/5], Seed [29] Test Loss: 0.4101\n",
      "Epoch [3/5], Seed [29] Test Loss: 0.3437\n",
      "Epoch [4/5], Seed [29] Test Loss: 0.3094\n"
     ]
    },
    {
     "name": "stderr",
     "output_type": "stream",
     "text": [
      "  4%|▎         | 1/27 [00:41<18:03, 41.69s/it]"
     ]
    },
    {
     "name": "stdout",
     "output_type": "stream",
     "text": [
      "Epoch [5/5], Seed [29] Test Loss: 0.2893\n",
      "Seed number: #29, hidden_size: 100, # Epochs: 5, learning_rate: 0.0001, batch_size: 250\n",
      "Epoch [1/5], Seed [29] Test Loss: 1.1278\n",
      "Epoch [2/5], Seed [29] Test Loss: 0.6469\n",
      "Epoch [3/5], Seed [29] Test Loss: 0.4851\n",
      "Epoch [4/5], Seed [29] Test Loss: 0.4096\n"
     ]
    },
    {
     "name": "stderr",
     "output_type": "stream",
     "text": [
      "  7%|▋         | 2/27 [01:15<15:26, 37.07s/it]"
     ]
    },
    {
     "name": "stdout",
     "output_type": "stream",
     "text": [
      "Epoch [5/5], Seed [29] Test Loss: 0.3676\n",
      "Seed number: #29, hidden_size: 100, # Epochs: 5, learning_rate: 0.0001, batch_size: 500\n",
      "Epoch [1/5], Seed [29] Test Loss: 1.6354\n",
      "Epoch [2/5], Seed [29] Test Loss: 1.0639\n",
      "Epoch [3/5], Seed [29] Test Loss: 0.7625\n",
      "Epoch [4/5], Seed [29] Test Loss: 0.6037\n"
     ]
    },
    {
     "name": "stderr",
     "output_type": "stream",
     "text": [
      " 11%|█         | 3/27 [01:47<13:57, 34.88s/it]"
     ]
    },
    {
     "name": "stdout",
     "output_type": "stream",
     "text": [
      "Epoch [5/5], Seed [29] Test Loss: 0.5112\n",
      "Seed number: #29, hidden_size: 100, # Epochs: 5, learning_rate: 0.001, batch_size: 100\n",
      "Epoch [1/5], Seed [29] Test Loss: 0.2401\n",
      "Epoch [2/5], Seed [29] Test Loss: 0.1749\n",
      "Epoch [3/5], Seed [29] Test Loss: 0.1468\n",
      "Epoch [4/5], Seed [29] Test Loss: 0.1234\n"
     ]
    },
    {
     "name": "stderr",
     "output_type": "stream",
     "text": [
      " 15%|█▍        | 4/27 [02:25<13:50, 36.11s/it]"
     ]
    },
    {
     "name": "stdout",
     "output_type": "stream",
     "text": [
      "Epoch [5/5], Seed [29] Test Loss: 0.1117\n",
      "Seed number: #29, hidden_size: 100, # Epochs: 5, learning_rate: 0.001, batch_size: 250\n",
      "Epoch [1/5], Seed [29] Test Loss: 0.2987\n",
      "Epoch [2/5], Seed [29] Test Loss: 0.2323\n",
      "Epoch [3/5], Seed [29] Test Loss: 0.1929\n",
      "Epoch [4/5], Seed [29] Test Loss: 0.1670\n"
     ]
    },
    {
     "name": "stderr",
     "output_type": "stream",
     "text": [
      " 19%|█▊        | 5/27 [02:59<12:54, 35.20s/it]"
     ]
    },
    {
     "name": "stdout",
     "output_type": "stream",
     "text": [
      "Epoch [5/5], Seed [29] Test Loss: 0.1496\n",
      "Seed number: #29, hidden_size: 100, # Epochs: 5, learning_rate: 0.001, batch_size: 500\n",
      "Epoch [1/5], Seed [29] Test Loss: 0.3596\n",
      "Epoch [2/5], Seed [29] Test Loss: 0.2778\n",
      "Epoch [3/5], Seed [29] Test Loss: 0.2413\n",
      "Epoch [4/5], Seed [29] Test Loss: 0.2146\n"
     ]
    },
    {
     "name": "stderr",
     "output_type": "stream",
     "text": [
      " 22%|██▏       | 6/27 [03:31<11:54, 34.04s/it]"
     ]
    },
    {
     "name": "stdout",
     "output_type": "stream",
     "text": [
      "Epoch [5/5], Seed [29] Test Loss: 0.1933\n",
      "Seed number: #29, hidden_size: 100, # Epochs: 5, learning_rate: 0.01, batch_size: 100\n",
      "Epoch [1/5], Seed [29] Test Loss: 0.1435\n",
      "Epoch [2/5], Seed [29] Test Loss: 0.1380\n",
      "Epoch [3/5], Seed [29] Test Loss: 0.1427\n",
      "Epoch [4/5], Seed [29] Test Loss: 0.1502\n"
     ]
    },
    {
     "name": "stderr",
     "output_type": "stream",
     "text": [
      " 26%|██▌       | 7/27 [04:08<11:42, 35.15s/it]"
     ]
    },
    {
     "name": "stdout",
     "output_type": "stream",
     "text": [
      "Epoch [5/5], Seed [29] Test Loss: 0.1391\n",
      "Seed number: #29, hidden_size: 100, # Epochs: 5, learning_rate: 0.01, batch_size: 250\n",
      "Epoch [1/5], Seed [29] Test Loss: 0.1578\n",
      "Epoch [2/5], Seed [29] Test Loss: 0.1092\n",
      "Epoch [3/5], Seed [29] Test Loss: 0.1089\n",
      "Epoch [4/5], Seed [29] Test Loss: 0.1040\n"
     ]
    },
    {
     "name": "stderr",
     "output_type": "stream",
     "text": [
      " 30%|██▉       | 8/27 [04:41<10:56, 34.55s/it]"
     ]
    },
    {
     "name": "stdout",
     "output_type": "stream",
     "text": [
      "Epoch [5/5], Seed [29] Test Loss: 0.1198\n",
      "Seed number: #29, hidden_size: 100, # Epochs: 5, learning_rate: 0.01, batch_size: 500\n",
      "Epoch [1/5], Seed [29] Test Loss: 0.1751\n",
      "Epoch [2/5], Seed [29] Test Loss: 0.1347\n",
      "Epoch [3/5], Seed [29] Test Loss: 0.1047\n",
      "Epoch [4/5], Seed [29] Test Loss: 0.0978\n"
     ]
    },
    {
     "name": "stderr",
     "output_type": "stream",
     "text": [
      " 33%|███▎      | 9/27 [05:14<10:11, 33.96s/it]"
     ]
    },
    {
     "name": "stdout",
     "output_type": "stream",
     "text": [
      "Epoch [5/5], Seed [29] Test Loss: 0.1014\n",
      "Seed number: #29, hidden_size: 500, # Epochs: 5, learning_rate: 0.0001, batch_size: 100\n",
      "Epoch [1/5], Seed [29] Test Loss: 0.3863\n",
      "Epoch [2/5], Seed [29] Test Loss: 0.2955\n",
      "Epoch [3/5], Seed [29] Test Loss: 0.2558\n",
      "Epoch [4/5], Seed [29] Test Loss: 0.2292\n"
     ]
    },
    {
     "name": "stderr",
     "output_type": "stream",
     "text": [
      " 37%|███▋      | 10/27 [05:51<09:55, 35.00s/it]"
     ]
    },
    {
     "name": "stdout",
     "output_type": "stream",
     "text": [
      "Epoch [5/5], Seed [29] Test Loss: 0.2064\n",
      "Seed number: #29, hidden_size: 500, # Epochs: 5, learning_rate: 0.0001, batch_size: 250\n",
      "Epoch [1/5], Seed [29] Test Loss: 0.5908\n",
      "Epoch [2/5], Seed [29] Test Loss: 0.3830\n",
      "Epoch [3/5], Seed [29] Test Loss: 0.3189\n",
      "Epoch [4/5], Seed [29] Test Loss: 0.2881\n"
     ]
    },
    {
     "name": "stderr",
     "output_type": "stream",
     "text": [
      " 41%|████      | 11/27 [06:23<09:04, 34.01s/it]"
     ]
    },
    {
     "name": "stdout",
     "output_type": "stream",
     "text": [
      "Epoch [5/5], Seed [29] Test Loss: 0.2650\n",
      "Seed number: #29, hidden_size: 500, # Epochs: 5, learning_rate: 0.0001, batch_size: 500\n",
      "Epoch [1/5], Seed [29] Test Loss: 0.9901\n",
      "Epoch [2/5], Seed [29] Test Loss: 0.5479\n",
      "Epoch [3/5], Seed [29] Test Loss: 0.4170\n",
      "Epoch [4/5], Seed [29] Test Loss: 0.3589\n"
     ]
    },
    {
     "name": "stderr",
     "output_type": "stream",
     "text": [
      " 44%|████▍     | 12/27 [06:55<08:21, 33.41s/it]"
     ]
    },
    {
     "name": "stdout",
     "output_type": "stream",
     "text": [
      "Epoch [5/5], Seed [29] Test Loss: 0.3255\n",
      "Seed number: #29, hidden_size: 500, # Epochs: 5, learning_rate: 0.001, batch_size: 100\n",
      "Epoch [1/5], Seed [29] Test Loss: 0.1598\n",
      "Epoch [2/5], Seed [29] Test Loss: 0.1034\n",
      "Epoch [3/5], Seed [29] Test Loss: 0.0854\n",
      "Epoch [4/5], Seed [29] Test Loss: 0.0853\n"
     ]
    },
    {
     "name": "stderr",
     "output_type": "stream",
     "text": [
      " 48%|████▊     | 13/27 [07:31<07:59, 34.25s/it]"
     ]
    },
    {
     "name": "stdout",
     "output_type": "stream",
     "text": [
      "Epoch [5/5], Seed [29] Test Loss: 0.0689\n",
      "Seed number: #29, hidden_size: 500, # Epochs: 5, learning_rate: 0.001, batch_size: 250\n",
      "Epoch [1/5], Seed [29] Test Loss: 0.2214\n",
      "Epoch [2/5], Seed [29] Test Loss: 0.1466\n",
      "Epoch [3/5], Seed [29] Test Loss: 0.1194\n",
      "Epoch [4/5], Seed [29] Test Loss: 0.1074\n"
     ]
    },
    {
     "name": "stderr",
     "output_type": "stream",
     "text": [
      " 52%|█████▏    | 14/27 [08:03<07:15, 33.48s/it]"
     ]
    },
    {
     "name": "stdout",
     "output_type": "stream",
     "text": [
      "Epoch [5/5], Seed [29] Test Loss: 0.0874\n",
      "Seed number: #29, hidden_size: 500, # Epochs: 5, learning_rate: 0.001, batch_size: 500\n",
      "Epoch [1/5], Seed [29] Test Loss: 0.2630\n",
      "Epoch [2/5], Seed [29] Test Loss: 0.1964\n",
      "Epoch [3/5], Seed [29] Test Loss: 0.1502\n",
      "Epoch [4/5], Seed [29] Test Loss: 0.1267\n"
     ]
    },
    {
     "name": "stderr",
     "output_type": "stream",
     "text": [
      " 56%|█████▌    | 15/27 [08:34<06:33, 32.77s/it]"
     ]
    },
    {
     "name": "stdout",
     "output_type": "stream",
     "text": [
      "Epoch [5/5], Seed [29] Test Loss: 0.1111\n",
      "Seed number: #29, hidden_size: 500, # Epochs: 5, learning_rate: 0.01, batch_size: 100\n",
      "Epoch [1/5], Seed [29] Test Loss: 0.1391\n",
      "Epoch [2/5], Seed [29] Test Loss: 0.1208\n",
      "Epoch [3/5], Seed [29] Test Loss: 0.1455\n",
      "Epoch [4/5], Seed [29] Test Loss: 0.1589\n"
     ]
    },
    {
     "name": "stderr",
     "output_type": "stream",
     "text": [
      " 59%|█████▉    | 16/27 [09:10<06:10, 33.70s/it]"
     ]
    },
    {
     "name": "stdout",
     "output_type": "stream",
     "text": [
      "Epoch [5/5], Seed [29] Test Loss: 0.1322\n",
      "Seed number: #29, hidden_size: 500, # Epochs: 5, learning_rate: 0.01, batch_size: 250\n",
      "Epoch [1/5], Seed [29] Test Loss: 0.1169\n",
      "Epoch [2/5], Seed [29] Test Loss: 0.0904\n",
      "Epoch [3/5], Seed [29] Test Loss: 0.1146\n",
      "Epoch [4/5], Seed [29] Test Loss: 0.1354\n"
     ]
    },
    {
     "name": "stderr",
     "output_type": "stream",
     "text": [
      " 63%|██████▎   | 17/27 [09:42<05:30, 33.06s/it]"
     ]
    },
    {
     "name": "stdout",
     "output_type": "stream",
     "text": [
      "Epoch [5/5], Seed [29] Test Loss: 0.1249\n",
      "Seed number: #29, hidden_size: 500, # Epochs: 5, learning_rate: 0.01, batch_size: 500\n",
      "Epoch [1/5], Seed [29] Test Loss: 0.1285\n",
      "Epoch [2/5], Seed [29] Test Loss: 0.0949\n",
      "Epoch [3/5], Seed [29] Test Loss: 0.1026\n",
      "Epoch [4/5], Seed [29] Test Loss: 0.0905\n"
     ]
    },
    {
     "name": "stderr",
     "output_type": "stream",
     "text": [
      " 67%|██████▋   | 18/27 [10:13<04:52, 32.48s/it]"
     ]
    },
    {
     "name": "stdout",
     "output_type": "stream",
     "text": [
      "Epoch [5/5], Seed [29] Test Loss: 0.0906\n",
      "Seed number: #29, hidden_size: 2000, # Epochs: 5, learning_rate: 0.0001, batch_size: 100\n",
      "Epoch [1/5], Seed [29] Test Loss: 0.2900\n",
      "Epoch [2/5], Seed [29] Test Loss: 0.2226\n",
      "Epoch [3/5], Seed [29] Test Loss: 0.1811\n",
      "Epoch [4/5], Seed [29] Test Loss: 0.1559\n"
     ]
    },
    {
     "name": "stderr",
     "output_type": "stream",
     "text": [
      " 70%|███████   | 19/27 [10:49<04:28, 33.62s/it]"
     ]
    },
    {
     "name": "stdout",
     "output_type": "stream",
     "text": [
      "Epoch [5/5], Seed [29] Test Loss: 0.1362\n",
      "Seed number: #29, hidden_size: 2000, # Epochs: 5, learning_rate: 0.0001, batch_size: 250\n",
      "Epoch [1/5], Seed [29] Test Loss: 0.3832\n",
      "Epoch [2/5], Seed [29] Test Loss: 0.2833\n",
      "Epoch [3/5], Seed [29] Test Loss: 0.2434\n",
      "Epoch [4/5], Seed [29] Test Loss: 0.2107\n"
     ]
    },
    {
     "name": "stderr",
     "output_type": "stream",
     "text": [
      " 74%|███████▍  | 20/27 [11:21<03:52, 33.18s/it]"
     ]
    },
    {
     "name": "stdout",
     "output_type": "stream",
     "text": [
      "Epoch [5/5], Seed [29] Test Loss: 0.1897\n",
      "Seed number: #29, hidden_size: 2000, # Epochs: 5, learning_rate: 0.0001, batch_size: 500\n",
      "Epoch [1/5], Seed [29] Test Loss: 0.5534\n",
      "Epoch [2/5], Seed [29] Test Loss: 0.3567\n",
      "Epoch [3/5], Seed [29] Test Loss: 0.2966\n",
      "Epoch [4/5], Seed [29] Test Loss: 0.2617\n"
     ]
    },
    {
     "name": "stderr",
     "output_type": "stream",
     "text": [
      " 78%|███████▊  | 21/27 [11:52<03:15, 32.61s/it]"
     ]
    },
    {
     "name": "stdout",
     "output_type": "stream",
     "text": [
      "Epoch [5/5], Seed [29] Test Loss: 0.2381\n",
      "Seed number: #29, hidden_size: 2000, # Epochs: 5, learning_rate: 0.001, batch_size: 100\n",
      "Epoch [1/5], Seed [29] Test Loss: 0.1124\n",
      "Epoch [2/5], Seed [29] Test Loss: 0.0767\n",
      "Epoch [3/5], Seed [29] Test Loss: 0.0689\n",
      "Epoch [4/5], Seed [29] Test Loss: 0.0769\n"
     ]
    },
    {
     "name": "stderr",
     "output_type": "stream",
     "text": [
      " 81%|████████▏ | 22/27 [12:32<02:53, 34.79s/it]"
     ]
    },
    {
     "name": "stdout",
     "output_type": "stream",
     "text": [
      "Epoch [5/5], Seed [29] Test Loss: 0.0704\n",
      "Seed number: #29, hidden_size: 2000, # Epochs: 5, learning_rate: 0.001, batch_size: 250\n",
      "Epoch [1/5], Seed [29] Test Loss: 0.1489\n",
      "Epoch [2/5], Seed [29] Test Loss: 0.1010\n",
      "Epoch [3/5], Seed [29] Test Loss: 0.0800\n",
      "Epoch [4/5], Seed [29] Test Loss: 0.0760\n"
     ]
    },
    {
     "name": "stderr",
     "output_type": "stream",
     "text": [
      " 85%|████████▌ | 23/27 [13:04<02:15, 33.96s/it]"
     ]
    },
    {
     "name": "stdout",
     "output_type": "stream",
     "text": [
      "Epoch [5/5], Seed [29] Test Loss: 0.0738\n",
      "Seed number: #29, hidden_size: 2000, # Epochs: 5, learning_rate: 0.001, batch_size: 500\n",
      "Epoch [1/5], Seed [29] Test Loss: 0.1978\n",
      "Epoch [2/5], Seed [29] Test Loss: 0.1330\n",
      "Epoch [3/5], Seed [29] Test Loss: 0.1079\n",
      "Epoch [4/5], Seed [29] Test Loss: 0.0884\n"
     ]
    },
    {
     "name": "stderr",
     "output_type": "stream",
     "text": [
      " 89%|████████▉ | 24/27 [13:35<01:39, 33.00s/it]"
     ]
    },
    {
     "name": "stdout",
     "output_type": "stream",
     "text": [
      "Epoch [5/5], Seed [29] Test Loss: 0.0757\n",
      "Seed number: #29, hidden_size: 2000, # Epochs: 5, learning_rate: 0.01, batch_size: 100\n",
      "Epoch [1/5], Seed [29] Test Loss: 0.1543\n",
      "Epoch [2/5], Seed [29] Test Loss: 0.1252\n",
      "Epoch [3/5], Seed [29] Test Loss: 0.1466\n",
      "Epoch [4/5], Seed [29] Test Loss: 0.1585\n"
     ]
    },
    {
     "name": "stderr",
     "output_type": "stream",
     "text": [
      " 93%|█████████▎| 25/27 [14:10<01:07, 33.68s/it]"
     ]
    },
    {
     "name": "stdout",
     "output_type": "stream",
     "text": [
      "Epoch [5/5], Seed [29] Test Loss: 0.1944\n",
      "Seed number: #29, hidden_size: 2000, # Epochs: 5, learning_rate: 0.01, batch_size: 250\n",
      "Epoch [1/5], Seed [29] Test Loss: 0.1058\n",
      "Epoch [2/5], Seed [29] Test Loss: 0.0990\n",
      "Epoch [3/5], Seed [29] Test Loss: 0.1079\n",
      "Epoch [4/5], Seed [29] Test Loss: 0.1181\n"
     ]
    },
    {
     "name": "stderr",
     "output_type": "stream",
     "text": [
      " 96%|█████████▋| 26/27 [14:45<00:34, 34.06s/it]"
     ]
    },
    {
     "name": "stdout",
     "output_type": "stream",
     "text": [
      "Epoch [5/5], Seed [29] Test Loss: 0.1308\n",
      "Seed number: #29, hidden_size: 2000, # Epochs: 5, learning_rate: 0.01, batch_size: 500\n",
      "Epoch [1/5], Seed [29] Test Loss: 0.1117\n",
      "Epoch [2/5], Seed [29] Test Loss: 0.0890\n",
      "Epoch [3/5], Seed [29] Test Loss: 0.0893\n",
      "Epoch [4/5], Seed [29] Test Loss: 0.0895\n"
     ]
    },
    {
     "name": "stderr",
     "output_type": "stream",
     "text": [
      "100%|██████████| 27/27 [15:17<00:00, 33.99s/it]"
     ]
    },
    {
     "name": "stdout",
     "output_type": "stream",
     "text": [
      "Epoch [5/5], Seed [29] Test Loss: 0.0900\n"
     ]
    },
    {
     "name": "stderr",
     "output_type": "stream",
     "text": [
      "\n"
     ]
    }
   ],
   "source": [
    "# main\n",
    "training_tests_errors = []\n",
    "training_val_errors = []\n",
    "final_tests_errors    = []\n",
    "\n",
    "for i,combination in tqdm(enumerate(combinations),total=num_of_iterations):\n",
    "    # print(f'Iteration {i+1}/{num_of_iterations}')\n",
    "    print_curr_combination(combination)\n",
    "    curr_model, curr_test_errors,curr_val_errors = train_model(combination[0],combination[1],combination[2],combination[3],combination[4])\n",
    "    training_tests_errors.append(curr_test_errors)\n",
    "    training_val_errors.append(curr_val_errors)\n",
    "    final_tests_errors.append(curr_test_errors[-1]) # get last valid test error from each seed\n"
   ]
  },
  {
   "cell_type": "code",
   "execution_count": 39,
   "metadata": {},
   "outputs": [],
   "source": [
    "# # Graphs for each seed\n",
    "# seed_id = 0\n",
    "# for i,curr_training_val_error in enumerate(training_val_errors):\n",
    "#     x_axis = np.arange(1, len(curr_training_val_error) + 1) # so x axis is from 1 to 5\n",
    "#     plt.plot(x_axis,curr_training_val_error, label=f'Validate Seed #{seed_numbers[seed_id]}', linestyle=\":\")\n",
    "#     seed_id+=1\n",
    "\n",
    "# seed_id = 0\n",
    "# for i,curr_training_tests_error in enumerate(training_tests_errors):\n",
    "#     x_axis = np.arange(1, len(curr_training_tests_error) + 1) # so x axis is from 1 to 5\n",
    "#     plt.plot(x_axis,curr_training_tests_error, label=f'Test Seed #{seed_numbers[seed_id]}')\n",
    "#     seed_id+=1\n",
    "\n",
    "# plt.ylabel(\"Error\")\n",
    "# plt.xlabel(\"Epochs\")\n",
    "# plt.title(\"Task 3: Test and Validate Errors Graph Per Seed\")\n",
    "# # plt.yscale('log')\n",
    "# # plt.xscale('log')\n",
    "# plt.legend()\n",
    "# plt.show()"
   ]
  },
  {
   "cell_type": "code",
   "execution_count": 40,
   "metadata": {},
   "outputs": [
    {
     "data": {
      "image/png": "[encoded data removed]",
      "text/plain": [
       "<Figure size 800x600 with 1 Axes>"
      ]
     },
     "metadata": {},
     "output_type": "display_data"
    }
   ],
   "source": [
    "table_data = []\n",
    "headers = [\"Hidden Size\", \"Batch Size\", \"Learning Rate\", \"Min Test Error\", \"Min Val Error\"]\n",
    "\n",
    "combinations, _ = generate_combinations()\n",
    "for i,combination in enumerate(combinations):\n",
    "    min_error_val = min(training_val_errors[i])\n",
    "    index_of_min = training_val_errors[i].index(min_error_val)\n",
    "    min_correspond_test = training_tests_errors[i][index_of_min]\n",
    "    # print('Combination {}: ({:.4f},{:.4f})'.format(combination,min_correspond_test,min_error_val))\n",
    "    table_data.append([combination[1],combination[4],combination[3],round(min_correspond_test,3),round(min_error_val,3)])\n",
    "\n",
    "# Print the table\n",
    "# print(tabulate(table_data, headers=headers, floatfmt=\".4f\"))\n",
    "\n",
    "df = pd.DataFrame(table_data, columns=headers)\n",
    "\n",
    "# Find the row with the minimum validation error\n",
    "min_val_error_row = df[\"Min Val Error\"].idxmin()\n",
    "\n",
    "# Plot the table\n",
    "fig, ax = plt.subplots(figsize=(8, 6))\n",
    "ax.axis('tight')\n",
    "ax.axis('off')\n",
    "table = ax.table(cellText=df.values, colLabels=df.columns, cellLoc='center', loc='center')\n",
    "\n",
    "# Highlight the row with the least validation error\n",
    "for key, cell in table.get_celld().items():\n",
    "    if key[0] == min_val_error_row + 1:  # +1 because header row is row 0\n",
    "        cell.set_facecolor('lightgreen')\n",
    "        \n",
    "# Save the table as a PNG image\n",
    "plt.savefig(\"table.png\", bbox_inches='tight', pad_inches=0.1)\n",
    "plt.show()\n"
   ]
  }
 ],
 "metadata": {
  "kernelspec": {
   "display_name": "adl",
   "language": "python",
   "name": "python3"
  },
  "language_info": {
   "codemirror_mode": {
    "name": "ipython",
    "version": 3
   },
   "file_extension": ".py",
   "mimetype": "text/x-python",
   "name": "python",
   "nbconvert_exporter": "python",
   "pygments_lexer": "ipython3",
   "version": "3.8.19"
  }
 },
 "nbformat": 4,
 "nbformat_minor": 2
}
